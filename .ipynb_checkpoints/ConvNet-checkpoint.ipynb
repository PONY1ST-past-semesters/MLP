{
 "cells": [
  {
   "cell_type": "markdown",
   "id": "ffa18af0",
   "metadata": {},
   "source": [
    "# Image Classification Using ConvNets"
   ]
  },
  {
   "cell_type": "markdown",
   "id": "27572107",
   "metadata": {},
   "source": [
    "We will implement a Convolutional Neural Net from scratch to perform image classification. Many proven implementations of this ML model already exist and are available through free libraries such as tensorflow, pytorch etc. However we will not rely on these and instead build our own, to improve our understanding of what really is happening inside of the black box."
   ]
  },
  {
   "cell_type": "code",
   "execution_count": 27,
   "id": "40663172",
   "metadata": {},
   "outputs": [
    {
     "ename": "SyntaxError",
     "evalue": "invalid syntax (978251289.py, line 2)",
     "output_type": "error",
     "traceback": [
      "\u001b[0;36m  Cell \u001b[0;32mIn [27], line 2\u001b[0;36m\u001b[0m\n\u001b[0;31m    import python-mnist\u001b[0m\n\u001b[0m                 ^\u001b[0m\n\u001b[0;31mSyntaxError\u001b[0m\u001b[0;31m:\u001b[0m invalid syntax\n"
     ]
    }
   ],
   "source": [
    "import matplotlib.pyplot as plt\n",
    "import python-mnist\n",
    "import numpy as np\n",
    "import gzip\n",
    "import os"
   ]
  },
  {
   "cell_type": "code",
   "execution_count": 11,
   "id": "49257305",
   "metadata": {},
   "outputs": [
    {
     "name": "stdout",
     "output_type": "stream",
     "text": [
      "--2022-11-10 23:22:11--  http://fashion-mnist.s3-website.eu-central-1.amazonaws.com/train-images-idx3-ubyte.gz\n",
      "Resolving fashion-mnist.s3-website.eu-central-1.amazonaws.com (fashion-mnist.s3-website.eu-central-1.amazonaws.com)... 52.219.72.208\n",
      "Connecting to fashion-mnist.s3-website.eu-central-1.amazonaws.com (fashion-mnist.s3-website.eu-central-1.amazonaws.com)|52.219.72.208|:80... connected.\n",
      "HTTP request sent, awaiting response... 200 OK\n",
      "Length: 26421880 (25M) [binary/octet-stream]\n",
      "Saving to: 'data/train-images-idx3-ubyte.gz'\n",
      "\n",
      "train-images-idx3-u 100%[===================>]  25.20M  7.73MB/s    in 3.7s    \n",
      "\n",
      "2022-11-10 23:22:15 (6.78 MB/s) - 'data/train-images-idx3-ubyte.gz' saved [26421880/26421880]\n",
      "\n",
      "--2022-11-10 23:22:15--  http://fashion-mnist.s3-website.eu-central-1.amazonaws.com/train-labels-idx1-ubyte.gz\n",
      "Resolving fashion-mnist.s3-website.eu-central-1.amazonaws.com (fashion-mnist.s3-website.eu-central-1.amazonaws.com)... 52.219.72.208\n",
      "Connecting to fashion-mnist.s3-website.eu-central-1.amazonaws.com (fashion-mnist.s3-website.eu-central-1.amazonaws.com)|52.219.72.208|:80... connected.\n",
      "HTTP request sent, awaiting response... 200 OK\n",
      "Length: 29515 (29K) [binary/octet-stream]\n",
      "Saving to: 'data/train-labels-idx1-ubyte.gz'\n",
      "\n",
      "train-labels-idx1-u 100%[===================>]  28.82K  --.-KB/s    in 0.09s   \n",
      "\n",
      "2022-11-10 23:22:15 (310 KB/s) - 'data/train-labels-idx1-ubyte.gz' saved [29515/29515]\n",
      "\n",
      "--2022-11-10 23:22:15--  http://fashion-mnist.s3-website.eu-central-1.amazonaws.com/t10k-images-idx3-ubyte.gz\n",
      "Resolving fashion-mnist.s3-website.eu-central-1.amazonaws.com (fashion-mnist.s3-website.eu-central-1.amazonaws.com)... 52.219.72.208\n",
      "Connecting to fashion-mnist.s3-website.eu-central-1.amazonaws.com (fashion-mnist.s3-website.eu-central-1.amazonaws.com)|52.219.72.208|:80... connected.\n",
      "HTTP request sent, awaiting response... 200 OK\n",
      "Length: 4422102 (4.2M) [binary/octet-stream]\n",
      "Saving to: 'data/t10k-images-idx3-ubyte.gz'\n",
      "\n",
      "t10k-images-idx3-ub 100%[===================>]   4.22M  4.12MB/s    in 1.0s    \n",
      "\n",
      "2022-11-10 23:22:17 (4.12 MB/s) - 'data/t10k-images-idx3-ubyte.gz' saved [4422102/4422102]\n",
      "\n",
      "--2022-11-10 23:22:17--  http://fashion-mnist.s3-website.eu-central-1.amazonaws.com/t10k-labels-idx1-ubyte.gz\n",
      "Resolving fashion-mnist.s3-website.eu-central-1.amazonaws.com (fashion-mnist.s3-website.eu-central-1.amazonaws.com)... 52.219.72.208\n",
      "Connecting to fashion-mnist.s3-website.eu-central-1.amazonaws.com (fashion-mnist.s3-website.eu-central-1.amazonaws.com)|52.219.72.208|:80... connected.\n",
      "HTTP request sent, awaiting response... 200 OK\n",
      "Length: 5148 (5.0K) [binary/octet-stream]\n",
      "Saving to: 'data/t10k-labels-idx1-ubyte.gz'\n",
      "\n",
      "t10k-labels-idx1-ub 100%[===================>]   5.03K  --.-KB/s    in 0s      \n",
      "\n",
      "2022-11-10 23:22:17 (13.0 MB/s) - 'data/t10k-labels-idx1-ubyte.gz' saved [5148/5148]\n",
      "\n"
     ]
    }
   ],
   "source": [
    "!wget http://fashion-mnist.s3-website.eu-central-1.amazonaws.com/train-images-idx3-ubyte.gz -P data\n",
    "!wget http://fashion-mnist.s3-website.eu-central-1.amazonaws.com/train-labels-idx1-ubyte.gz -P data\n",
    "!wget http://fashion-mnist.s3-website.eu-central-1.amazonaws.com/t10k-images-idx3-ubyte.gz -P data\n",
    "!wget http://fashion-mnist.s3-website.eu-central-1.amazonaws.com/t10k-labels-idx1-ubyte.gz -P data"
   ]
  },
  {
   "cell_type": "code",
   "execution_count": 29,
   "id": "c7388b66",
   "metadata": {},
   "outputs": [],
   "source": [
    "files = ['train-images-idx3-ubyte.gz', 'train-labels-idx1-ubyte.gz',\n",
    "         't10k-images-idx3-ubyte.gz', 't10k-labels-idx1-ubyte.gz']\n",
    "for file in files:\n",
    "    gzip.open(os.path.join('data', file),'r')"
   ]
  },
  {
   "cell_type": "code",
   "execution_count": 32,
   "id": "e80f7261",
   "metadata": {},
   "outputs": [
    {
     "ename": "ModuleNotFoundError",
     "evalue": "No module named 'mlxtend'",
     "output_type": "error",
     "traceback": [
      "\u001b[0;31m---------------------------------------------------------------------------\u001b[0m",
      "\u001b[0;31mModuleNotFoundError\u001b[0m                       Traceback (most recent call last)",
      "Cell \u001b[0;32mIn [32], line 1\u001b[0m\n\u001b[0;32m----> 1\u001b[0m \u001b[38;5;28;01mfrom\u001b[39;00m \u001b[38;5;21;01mmlxtend\u001b[39;00m\u001b[38;5;21;01m.\u001b[39;00m\u001b[38;5;21;01mdata\u001b[39;00m \u001b[38;5;28;01mimport\u001b[39;00m loadlocal_mnist\n\u001b[1;32m      2\u001b[0m \u001b[38;5;28;01mimport\u001b[39;00m \u001b[38;5;21;01mplatform\u001b[39;00m\n",
      "\u001b[0;31mModuleNotFoundError\u001b[0m: No module named 'mlxtend'"
     ]
    }
   ],
   "source": [
    "from mlxtend.data import loadlocal_mnist\n",
    "import platform"
   ]
  }
 ],
 "metadata": {
  "kernelspec": {
   "display_name": "Python 3 (ipykernel)",
   "language": "python",
   "name": "python3"
  },
  "language_info": {
   "codemirror_mode": {
    "name": "ipython",
    "version": 3
   },
   "file_extension": ".py",
   "mimetype": "text/x-python",
   "name": "python",
   "nbconvert_exporter": "python",
   "pygments_lexer": "ipython3",
   "version": "3.9.7"
  }
 },
 "nbformat": 4,
 "nbformat_minor": 5
}
