{
 "cells": [
  {
   "cell_type": "markdown",
   "id": "ffa18af0",
   "metadata": {},
   "source": [
    "# Image Classification Using ConvNets"
   ]
  },
  {
   "cell_type": "markdown",
   "id": "27572107",
   "metadata": {},
   "source": [
    "We will implement a Convolutional Neural Net from scratch to perform image classification. Many proven implementations of this ML model already exist and are available through free libraries such as tensorflow, pytorch etc. However we will not rely on these and instead build our own, to improve our understanding of what really is happening inside of the black box."
   ]
  },
  {
   "cell_type": "markdown",
   "id": "b18cfd54",
   "metadata": {},
   "source": [
    "### Dataset"
   ]
  },
  {
   "cell_type": "markdown",
   "id": "fbfd5cf4",
   "metadata": {},
   "source": [
    "We will be working with [Fashion-MNIST](https://github.com/zalandoresearch/fashion-mnist): a dataset containing 28x28 grayscale images of clothing articles. Although having the same type of input and range of labels, Fashion-MNIST is an alternative which is more challenging and better yet: more representative of modern image recognition problems; compared to the classic [MNIST](https://en.wikipedia.org/wiki/MNIST_database) we all know and love."
   ]
  },
  {
   "cell_type": "markdown",
   "id": "ef8bdf3d",
   "metadata": {},
   "source": [
    "To download the dataset:"
   ]
  },
  {
   "cell_type": "code",
   "execution_count": null,
   "id": "49257305",
   "metadata": {},
   "outputs": [],
   "source": [
    "!wget http://fashion-mnist.s3-website.eu-central-1.amazonaws.com/train-images-idx3-ubyte.gz -P data\n",
    "!wget http://fashion-mnist.s3-website.eu-central-1.amazonaws.com/train-labels-idx1-ubyte.gz -P data\n",
    "!wget http://fashion-mnist.s3-website.eu-central-1.amazonaws.com/t10k-images-idx3-ubyte.gz -P data\n",
    "!wget http://fashion-mnist.s3-website.eu-central-1.amazonaws.com/t10k-labels-idx1-ubyte.gz -P data"
   ]
  },
  {
   "cell_type": "markdown",
   "id": "4d425023",
   "metadata": {},
   "source": [
    "After doing this, make sure to unzip the tarballs in order"
   ]
  },
  {
   "cell_type": "markdown",
   "id": "fad77a8c",
   "metadata": {},
   "source": [
    "### Imports"
   ]
  },
  {
   "cell_type": "code",
   "execution_count": 2,
   "id": "40663172",
   "metadata": {},
   "outputs": [],
   "source": [
    "import matplotlib.pyplot as plt\n",
    "import mnist\n",
    "import numpy as np\n",
    "import random\n",
    "import os"
   ]
  },
  {
   "cell_type": "markdown",
   "id": "ed6b3dc5",
   "metadata": {},
   "source": [
    "## Understanding the data"
   ]
  },
  {
   "cell_type": "code",
   "execution_count": 3,
   "id": "c7388b66",
   "metadata": {},
   "outputs": [],
   "source": [
    "mndata = mnist.MNIST('data')\n",
    "\n",
    "images_train, labels_train = mndata.load_training()\n",
    "images_test, labels_test = mndata.load_testing()"
   ]
  },
  {
   "cell_type": "code",
   "execution_count": 4,
   "id": "6dbad403",
   "metadata": {},
   "outputs": [],
   "source": [
    "x_train = np.array(images_train)\n",
    "x_test = np.array(images_test)\n",
    "y_train = np.array(labels_train)\n",
    "y_test = np.array(labels_test)"
   ]
  },
  {
   "cell_type": "code",
   "execution_count": 7,
   "id": "c3a9f855",
   "metadata": {},
   "outputs": [
    {
     "data": {
      "text/plain": [
       "(60000, 784)"
      ]
     },
     "execution_count": 7,
     "metadata": {},
     "output_type": "execute_result"
    }
   ],
   "source": [
    "x_train.shape"
   ]
  },
  {
   "cell_type": "code",
   "execution_count": 8,
   "id": "fc48ae52",
   "metadata": {},
   "outputs": [
    {
     "data": {
      "text/plain": [
       "(10000, 784)"
      ]
     },
     "execution_count": 8,
     "metadata": {},
     "output_type": "execute_result"
    }
   ],
   "source": [
    "x_test.shape"
   ]
  },
  {
   "cell_type": "markdown",
   "id": "b643f153",
   "metadata": {},
   "source": [
    "We have 60000 training examples and 10000 testing examples. Each of these is a list of 784 numbers which represent each of the 28x28 pixels in the image. The value of the number represents how black the pixel is."
   ]
  },
  {
   "cell_type": "code",
   "execution_count": 5,
   "id": "9330302f",
   "metadata": {},
   "outputs": [],
   "source": [
    "label_to_article_map= {\n",
    "    0: 'T-shirt/top',\n",
    "    1: 'Trouser',\n",
    "    2: 'Pullover',\n",
    "    3: 'Dress',\n",
    "    4: 'Coat',\n",
    "    5: 'Sandal',\n",
    "    6: 'Shirt',\n",
    "    7: 'Sneaker',\n",
    "    8: 'Bag',\n",
    "    9: 'Ankle boot'\n",
    "}"
   ]
  },
  {
   "cell_type": "code",
   "execution_count": 27,
   "id": "19a4e03d",
   "metadata": {},
   "outputs": [
    {
     "data": {
      "image/png": "[encoded data removed]",
      "text/plain": [
       "<Figure size 640x480 with 1 Axes>"
      ]
     },
     "metadata": {},
     "output_type": "display_data"
    }
   ],
   "source": [
    "def display_image(index, train=True):\n",
    "    if train:\n",
    "        image = x_train[index]\n",
    "        label = y_train[index]\n",
    "    else:\n",
    "        image = x_test[index]\n",
    "        label = y_train[index]\n",
    "\n",
    "    image = np.array(image, dtype='float')\n",
    "    pixels = image.reshape((28, 28))\n",
    "    plt.imshow(pixels, cmap='gray')\n",
    "    plt.title(f\"{label_to_article_map[label]}\")\n",
    "    plt.show()\n",
    "\n",
    "display_image(random.randint(0, 60000))"
   ]
  },
  {
   "cell_type": "markdown",
   "id": "b9c674df",
   "metadata": {},
   "source": [
    "### Standardization"
   ]
  },
  {
   "cell_type": "code",
   "execution_count": 25,
   "id": "5c94f20e",
   "metadata": {},
   "outputs": [
    {
     "data": {
      "text/plain": [
       "72.94035223214286"
      ]
     },
     "execution_count": 25,
     "metadata": {},
     "output_type": "execute_result"
    }
   ],
   "source": [
    "np.mean(x_train)"
   ]
  },
  {
   "cell_type": "code",
   "execution_count": 26,
   "id": "cb28d25c",
   "metadata": {},
   "outputs": [
    {
     "data": {
      "text/plain": [
       "90.02118235130519"
      ]
     },
     "execution_count": 26,
     "metadata": {},
     "output_type": "execute_result"
    }
   ],
   "source": [
    "np.std(x_train)"
   ]
  },
  {
   "cell_type": "markdown",
   "id": "afb16ae6",
   "metadata": {},
   "source": [
    "We will now "
   ]
  }
 ],
 "metadata": {
  "kernelspec": {
   "display_name": "Python 3 (ipykernel)",
   "language": "python",
   "name": "python3"
  },
  "language_info": {
   "codemirror_mode": {
    "name": "ipython",
    "version": 3
   },
   "file_extension": ".py",
   "mimetype": "text/x-python",
   "name": "python",
   "nbconvert_exporter": "python",
   "pygments_lexer": "ipython3",
   "version": "3.10.4"
  }
 },
 "nbformat": 4,
 "nbformat_minor": 5
}
